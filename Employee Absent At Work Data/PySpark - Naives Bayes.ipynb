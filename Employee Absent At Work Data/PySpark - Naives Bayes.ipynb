{
 "cells": [
  {
   "cell_type": "code",
   "execution_count": 1,
   "id": "a03b0df0",
   "metadata": {},
   "outputs": [
    {
     "name": "stdout",
     "output_type": "stream",
     "text": [
      "env: SPARK_LOCAL_HOSTNAME=localhost\n"
     ]
    }
   ],
   "source": [
    "# đặt biến môi trường \n",
    "%env SPARK_LOCAL_HOSTNAME=localhost"
   ]
  },
  {
   "cell_type": "code",
   "execution_count": 2,
   "id": "ee73cbaa",
   "metadata": {},
   "outputs": [],
   "source": [
    "#khởi động spark\n",
    "import findspark\n",
    "findspark.init()"
   ]
  },
  {
   "cell_type": "code",
   "execution_count": 7,
   "id": "ffb423fd",
   "metadata": {},
   "outputs": [
    {
     "name": "stdout",
     "output_type": "stream",
     "text": [
      "Welcome to\n",
      "      ____              __\n",
      "     / __/__  ___ _____/ /__\n",
      "    _\\ \\/ _ \\/ _ `/ __/  '_/\n",
      "   /__ / .__/\\_,_/_/ /_/\\_\\   version 3.2.0\n",
      "      /_/\n",
      "\n",
      "Using Python version 3.9.7 (default, Sep 16 2021 16:59:28)\n",
      "Spark context Web UI available at http://localhost:4040\n",
      "Spark context available as 'sc' (master = local[*], app id = local-1639722593371).\n",
      "SparkSession available as 'spark'.\n"
     ]
    }
   ],
   "source": [
    "# thêm các thư viện spark để thực hiện model Naives Bayes\n",
    "\n",
    "import os\n",
    "import numpy as np\n",
    "from pyspark.ml.feature import VectorAssembler\n",
    "from sklearn.metrics import confusion_matrix\n",
    "from sklearn.metrics import precision_score\n",
    "from sklearn.metrics import recall_score\n",
    "import scipy\n",
    "from pyspark.ml.classification import NaiveBayes\n",
    "from pyspark.ml.evaluation import MulticlassClassificationEvaluator\n",
    "from pyspark.ml.linalg import SparseVector\n",
    "from pyspark.sql import SparkSession\n",
    "from pyspark.python.pyspark.shell import spark\n"
   ]
  },
  {
   "cell_type": "code",
   "execution_count": 9,
   "id": "ac39544b",
   "metadata": {},
   "outputs": [
    {
     "name": "stdout",
     "output_type": "stream",
     "text": [
      "độ chính xác của bộ dữ liệu Test Naive Bayes:0.061224489795918366\n",
      "Ma trận Confusion Matrix của Naive Bayes Model:\n",
      "[[0 0 0 ... 0 0 0]\n",
      " [0 0 0 ... 0 0 0]\n",
      " [0 0 0 ... 0 0 0]\n",
      " ...\n",
      " [2 0 0 ... 0 0 0]\n",
      " [0 0 0 ... 0 0 0]\n",
      " [5 0 0 ... 0 0 0]]\n",
      "Độ chính xác của model Naive Bayes là: 0.02972972972972973\n",
      "Recall của model Naive Bayes là: 0.02972972972972973\n"
     ]
    }
   ],
   "source": [
    "spark = SparkSession.builder.getOrCreate()\n",
    "data = spark.read.load(\"C:/Users/Admin/Documents/Absenteeism_at_work.csv\", format=\"csv\", header=True, delimiter=\";\")\n",
    "data = data.withColumn(\"MOA\", data[\"Month of absence\"] - 0).withColumn(\"label\", data['Seasons'] - 0). \\\n",
    "    withColumn(\"ROA\", data[\"Reason for absence\"] - 0). \\\n",
    "    withColumn(\"distance\", data[\"Distance from Residence to Work\"] - 0). \\\n",
    "    withColumn(\"BMI\", data[\"Body mass index\"] - 0)\n",
    "\n",
    "assem = VectorAssembler(inputCols=[\"label\", \"MOA\"], outputCol='features')\n",
    "\n",
    "data = assem.transform(data)\n",
    "\n",
    "# chia tập dữ liệu ra để test và train. 30 cho test 70 cho train\n",
    "splits = data.randomSplit([0.7, 0.3], 1000)\n",
    "train = splits[0]\n",
    "test = splits[1]\n",
    "\n",
    "# cài đặt thuật toán\n",
    "nb = NaiveBayes(smoothing=1.0, modelType=\"multinomial\")\n",
    "\n",
    "# train model\n",
    "model = nb.fit(train)\n",
    "\n",
    "predictions = model.transform(test)\n",
    "\n",
    "# tính toán độ chính xác bộ dữ liệu test\n",
    "evaluator = MulticlassClassificationEvaluator(labelCol=\"label\", predictionCol=\"prediction\",\n",
    "                                              metricName=\"accuracy\")\n",
    "\n",
    "y_true = data.select(\"BMI\").rdd.flatMap(lambda x: x).collect()\n",
    "y_pred = data.select(\"ROA\").rdd.flatMap(lambda x: x).collect()\n",
    "\n",
    "# tính toán các thuộc tính và lập confusion matrix\n",
    "accuracy = evaluator.evaluate(predictions)\n",
    "\n",
    "confusionMatrix = confusion_matrix(y_true, y_pred)\n",
    "\n",
    "precision = precision_score(y_true, y_pred, average='micro')\n",
    "\n",
    "recall = recall_score(y_true, y_pred, average='micro')\n",
    "\n",
    "\n",
    "print(\"độ chính xác của bộ dữ liệu Test Naive Bayes:\" + str(accuracy))\n",
    "\n",
    "print(\"Ma trận Confusion Matrix của Naive Bayes Model:\\n\" + str(confusionMatrix))\n",
    "\n",
    "print(\"Độ chính xác của model Naive Bayes là: \" + str(precision))\n",
    "\n",
    "print(\"Recall của model Naive Bayes là: \" + str(recall))"
   ]
  },
  {
   "cell_type": "code",
   "execution_count": null,
   "id": "46540e1c",
   "metadata": {},
   "outputs": [],
   "source": []
  }
 ],
 "metadata": {
  "kernelspec": {
   "display_name": "Python 3 (ipykernel)",
   "language": "python",
   "name": "python3"
  },
  "language_info": {
   "codemirror_mode": {
    "name": "ipython",
    "version": 3
   },
   "file_extension": ".py",
   "mimetype": "text/x-python",
   "name": "python",
   "nbconvert_exporter": "python",
   "pygments_lexer": "ipython3",
   "version": "3.9.7"
  }
 },
 "nbformat": 4,
 "nbformat_minor": 5
}
